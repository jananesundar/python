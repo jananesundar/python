{
 "cells": [
  {
   "cell_type": "markdown",
   "id": "74e245bd",
   "metadata": {},
   "source": [
    "# Python assignment-1\n",
    "\n",
    "Name : S.Janane                              \n",
    "\n",
    "Reg.no : 21UAI040    \n",
    "    \n",
    "Dept.name : AI&DS   \n",
    "    \n",
    "Section : A"
   ]
  },
  {
   "cell_type": "code",
   "execution_count": 12,
   "id": "7a021cdb",
   "metadata": {},
   "outputs": [
    {
     "name": "stdout",
     "output_type": "stream",
     "text": [
      "Star Pattern: \n",
      "* \r\n",
      "* * \r\n",
      "* * * \r\n",
      "* * * * \r\n",
      "* * * * * \r\n"
     ]
    }
   ],
   "source": [
    "# Write a function called show_stars(rows). If rows are 5, it should print the following:\n",
    "\n",
    "num=5\n",
    "print(\"Star Pattern: \")\n",
    "for i in range(0,num):\n",
    "    for j in range(0,i+1):\n",
    "        print(\"*\", end=' ')\n",
    "    print(\"\\r\")"
   ]
  },
  {
   "cell_type": "code",
   "execution_count": 2,
   "id": "7c4bd7d3",
   "metadata": {},
   "outputs": [
    {
     "name": "stdout",
     "output_type": "stream",
     "text": [
      "\n",
      "1 \n",
      "2 2 \n",
      "3 3 3 \n",
      "4 4 4 4 \n",
      "5 5 5 5 5 \n"
     ]
    }
   ],
   "source": [
    "# Print the following pattern\n",
    "\n",
    "rows = 6\n",
    "for i in range(rows):\n",
    "    for j in range(i):\n",
    "        print(i, end=' ')\n",
    "    print('')"
   ]
  },
  {
   "cell_type": "code",
   "execution_count": 3,
   "id": "e21ab2fb",
   "metadata": {},
   "outputs": [
    {
     "name": "stdout",
     "output_type": "stream",
     "text": [
      "enter the string:hi!hello\n",
      "Original string: hi!hello\n",
      "String after removal of i'th character : hi!ello\n"
     ]
    }
   ],
   "source": [
    "#Write a program to remove characters from a string starting from zero up to n and return a new string.\n",
    "\n",
    "instr =input(\"enter the string:\")\n",
    "print (\"Original string: \" + instr) \n",
    "   \n",
    "rstr = \"\" \n",
    "   \n",
    "for i in range(0, len(instr)): \n",
    "    if i != 3: \n",
    "        rstr = rstr + instr[i] \n",
    "print (\"String after removal of i'th character : \" + rstr)"
   ]
  },
  {
   "cell_type": "code",
   "execution_count": 7,
   "id": "44362870",
   "metadata": {},
   "outputs": [
    {
     "name": "stdout",
     "output_type": "stream",
     "text": [
      "Give me a number:5\n",
      "Give me a number:10\n",
      "Give me a number:45\n",
      "Give me a number:7\n",
      "Give me a number:9\n",
      "5\n",
      "10\n",
      "45\n"
     ]
    }
   ],
   "source": [
    "#Iterate the given list of numbers and print only those numbers which are divisible by 5\n",
    "nums = [] \n",
    "for i in range(5): \n",
    "    num = int(input('Give me a number:')) \n",
    "    nums.append(num) \n",
    " \n",
    "for i in nums: \n",
    "    if i % 5 == 0: \n",
    "        print(i) "
   ]
  },
  {
   "cell_type": "code",
   "execution_count": 9,
   "id": "fd5ab595",
   "metadata": {},
   "outputs": [
    {
     "name": "stdout",
     "output_type": "stream",
     "text": [
      "The count is: 2\n"
     ]
    }
   ],
   "source": [
    "# Write a program to find how many times substring “Hi” appears in the given string.\n",
    "\n",
    "string = \"hi hello hi gm\"\n",
    "substring = \"hi\"\n",
    "count = string.count(substring)\n",
    "print(\"The count is:\", count)"
   ]
  },
  {
   "cell_type": "code",
   "execution_count": 10,
   "id": "6701ccbc",
   "metadata": {},
   "outputs": [
    {
     "name": "stdout",
     "output_type": "stream",
     "text": [
      "[1, 9, 2, 10, 19, 30]\n",
      "Swapped list:  [30, 9, 2, 10, 19, 1]\n"
     ]
    }
   ],
   "source": [
    "# Python program to interchange first and last elements in a list\n",
    "\n",
    "def swapList(list):\n",
    "    first = list.pop(0)   \n",
    "    last = list.pop(-1) \n",
    "    list.insert(0, last)  \n",
    "    list.append(first)         \n",
    "    return list\n",
    "li = [1, 9, 2, 10, 19, 30]\n",
    "print(li)\n",
    "print(\"Swapped list: \",swapList(li))"
   ]
  },
  {
   "cell_type": "code",
   "execution_count": 11,
   "id": "e99fdd15",
   "metadata": {},
   "outputs": [
    {
     "name": "stdout",
     "output_type": "stream",
     "text": [
      "[2, 87, 13, 90]\n"
     ]
    }
   ],
   "source": [
    "# Python program to swap two elements in a list\n",
    "\n",
    "def swapPositions(list, pos1, pos2):\n",
    "    get = list[pos1], list[pos2]\n",
    "    list[pos2], list[pos1] = get\n",
    "    return list\n",
    "List = [13,87,2,90]\n",
    "pos1, pos2  = 1, 3\n",
    "print(swapPositions(List, pos1-1, pos2-1))"
   ]
  },
  {
   "cell_type": "code",
   "execution_count": 12,
   "id": "aa649e1e",
   "metadata": {},
   "outputs": [
    {
     "name": "stdout",
     "output_type": "stream",
     "text": [
      "The list is : [1, 2, 4, 6, 13, 9, 7, 12]\n",
      "Length of list using naive method is : 8\n"
     ]
    }
   ],
   "source": [
    "# Python | Ways to find length of list\n",
    "\n",
    "test= [1,2,4,6,13,9,7,12]\n",
    "print (\"The list is : \" + str(test))\n",
    "count = 0\n",
    "for i in test:\n",
    "    count = count + 1\n",
    "print (\"Length of list using naive method is : \" + str(count))"
   ]
  },
  {
   "cell_type": "code",
   "execution_count": 13,
   "id": "ea88c615",
   "metadata": {},
   "outputs": [
    {
     "name": "stdout",
     "output_type": "stream",
     "text": [
      "Enter the number 1: 27\n",
      "Enter the number 2: 18\n",
      "27 is greater\n"
     ]
    }
   ],
   "source": [
    "# Maximum of two numbers in Python\n",
    "\n",
    "n1 = int(input(\"Enter the number 1: \"))\n",
    "n2 = int(input(\"Enter the number 2: \"))\n",
    "if(n1 > n2):\n",
    "  print(n1, \"is greater\")\n",
    "elif(n1 < n2):\n",
    "    print(n2, \"is greater\")\n",
    "else:\n",
    "    print(\"Both are equal\")"
   ]
  },
  {
   "cell_type": "code",
   "execution_count": 14,
   "id": "ef9a0527",
   "metadata": {},
   "outputs": [
    {
     "name": "stdout",
     "output_type": "stream",
     "text": [
      "Enter the number a:9\n",
      "Enter the number b:4\n",
      "4\n"
     ]
    }
   ],
   "source": [
    "# Minimum of two numbers in Python\n",
    "\n",
    "def minimum(a, b):      \n",
    "    if a <= b:\n",
    "        return a\n",
    "    else:\n",
    "        return b\n",
    "a = int(input(\"Enter the number a:\"))\n",
    "b = int(input(\"Enter the number b:\"))\n",
    "print(minimum(a, b))"
   ]
  },
  {
   "cell_type": "code",
   "execution_count": 15,
   "id": "8172804e",
   "metadata": {},
   "outputs": [
    {
     "name": "stdout",
     "output_type": "stream",
     "text": [
      "abcabc\n",
      "symmetrical\n",
      "abcdab\n",
      "not symmetrical\n"
     ]
    }
   ],
   "source": [
    "# Python program to check whether the string is Symmetrical or Palindrome\n",
    "\n",
    "def check(string):\n",
    "    n=len(string)\n",
    "    flag=0\n",
    "    if n%2:\n",
    "        mid=n//2+1\n",
    "    else:\n",
    "        mid= n//2\n",
    "    start=0\n",
    "    end= mid\n",
    "    while(start <mid and end<n):\n",
    "        if(string[start]== string[end]):\n",
    "            start= start+1\n",
    "            end= end+1\n",
    "        else:\n",
    "            flag=1\n",
    "            break\n",
    "    if flag==0:\n",
    "        print(\"symmetrical\")\n",
    "    else:\n",
    "        print(\"not symmetrical\")\n",
    "s= \"abcabc\"\n",
    "print (s)\n",
    "check(s)\n",
    "s2= \"abcdab\"\n",
    "print(s2)\n",
    "check(s2)"
   ]
  },
  {
   "cell_type": "code",
   "execution_count": 17,
   "id": "ff546186",
   "metadata": {},
   "outputs": [
    {
     "name": "stdout",
     "output_type": "stream",
     "text": [
      "enanaj\n"
     ]
    }
   ],
   "source": [
    "# Reverse words in a given String in Python\n",
    "\n",
    "def function(x):\n",
    "  return x[::-1]\n",
    "txt = function(\"python\")\n",
    "print(txt)"
   ]
  },
  {
   "cell_type": "code",
   "execution_count": 18,
   "id": "15ae1f6e",
   "metadata": {},
   "outputs": [
    {
     "name": "stdout",
     "output_type": "stream",
     "text": [
      "Welcme to Python\n"
     ]
    }
   ],
   "source": [
    "# Ways to remove i’th character from string in Python\n",
    "\n",
    "def remove_char(s, i):\n",
    "    for j in range(len(s)):\n",
    "        if j==i:\n",
    "            s=s.replace(s[i],\"\",1)\n",
    "    return s\n",
    "string = \"Welcome to Python\"\n",
    "i = 5\n",
    "print(remove_char(string,i-1))"
   ]
  },
  {
   "cell_type": "code",
   "execution_count": 20,
   "id": "9238a5e0",
   "metadata": {},
   "outputs": [
    {
     "name": "stdout",
     "output_type": "stream",
     "text": [
      "The tuple is : \n",
      "(7, 25, 36, 9, 6, 8)\n",
      "The value of K has been initialized to \n",
      "2\n",
      "The result is : \n",
      "(6, 7, 25, 36)\n"
     ]
    }
   ],
   "source": [
    "# Python – Maximum and Minimum K elements in Tuple\n",
    "\n",
    "my_tuple = (7, 25, 36, 9, 6, 8)\n",
    "print(\"The tuple is : \")\n",
    "print(my_tuple)\n",
    "K = 2\n",
    "print(\"The value of K has been initialized to \")\n",
    "print(K)\n",
    "my_result = []\n",
    "my_tuple = list(my_tuple)\n",
    "temp = sorted(my_tuple)\n",
    "for idx, val in enumerate(temp):\n",
    "   if idx < K or idx >= len(temp) - K:\n",
    "      my_result.append(val)\n",
    "my_result = tuple(my_result)\n",
    "\n",
    "print(\"The result is : \" )\n",
    "print(my_result)"
   ]
  },
  {
   "cell_type": "code",
   "execution_count": 22,
   "id": "848a4c33",
   "metadata": {},
   "outputs": [
    {
     "name": "stdout",
     "output_type": "stream",
     "text": [
      "{1: 1, 3: 4, 2: 9}\n"
     ]
    }
   ],
   "source": [
    "# Python | Sort Python Dictionaries by Key or Value\n",
    "\n",
    "dict1 = {1: 1, 2: 9, 3: 4}\n",
    "sortvalues = sorted(dict1.values()) \n",
    "sortdict = {}\n",
    "\n",
    "for i in sortvalues:\n",
    "    for k in dict1.keys():\n",
    "        if dict1[k] == i:\n",
    "            sortdict[k] = dict1[k]\n",
    "            break\n",
    "print(sortdict)"
   ]
  },
  {
   "cell_type": "code",
   "execution_count": 24,
   "id": "d7d8cbf2",
   "metadata": {},
   "outputs": [
    {
     "name": "stdout",
     "output_type": "stream",
     "text": [
      "Length of this set is 7\n"
     ]
    }
   ],
   "source": [
    "# Find the size of a Set in Python\n",
    "\n",
    "set = {'a', 'b', 'c','d','e','g','h'}\n",
    "length = len(set)\n",
    "print(f'Length of this set is {length}')"
   ]
  },
  {
   "cell_type": "code",
   "execution_count": 27,
   "id": "e9933cec",
   "metadata": {},
   "outputs": [
    {
     "name": "stdout",
     "output_type": "stream",
     "text": [
      "c\n",
      "python\n",
      "java\n"
     ]
    }
   ],
   "source": [
    "# Iterate over a set in Python\n",
    "\n",
    "thisset = {\"python\", \"c\", \"java\"}\n",
    "for x in thisset:\n",
    "  print(x)"
   ]
  },
  {
   "cell_type": "code",
   "execution_count": 28,
   "id": "c20eb195",
   "metadata": {},
   "outputs": [
    {
     "name": "stdout",
     "output_type": "stream",
     "text": [
      "(iterable=None, /, **kwds)\n"
     ]
    }
   ],
   "source": [
    "# How to get list of parameters name from a function in Python?\n",
    "\n",
    "import inspect\n",
    "import collections\n",
    "print(inspect.signature(collections.Counter))"
   ]
  },
  {
   "cell_type": "code",
   "execution_count": 5,
   "id": "786cb16d",
   "metadata": {},
   "outputs": [
    {
     "name": "stdout",
     "output_type": "stream",
     "text": [
      "Size of the tuple is 5\n",
      "Size of the tuple is 7\n"
     ]
    }
   ],
   "source": [
    "# Python program to Find the size of a Tuple\n",
    "\n",
    "a = (\"python\",\"c\",\"c++\",\"javascript\",\"html\")\n",
    "b = (2,5,8,2,6,8,4) \n",
    "print(\"Size of the tuple is\", len(a))\n",
    "print(\"Size of the tuple is\", len(b))"
   ]
  },
  {
   "cell_type": "code",
   "execution_count": 4,
   "id": "8a78e18d",
   "metadata": {},
   "outputs": [
    {
     "name": "stdout",
     "output_type": "stream",
     "text": [
      "Tuple Items =  (3, 87, 445, 72, 89, 200)\n",
      "\n",
      "The Sum of numTuple Tuple Items =  896\n"
     ]
    }
   ],
   "source": [
    "# Python – Sum of tuple elements\n",
    "\n",
    "Tuple = (3,87,445,72,89,200)\n",
    "print(\"Tuple Items = \", Tuple)\n",
    "\n",
    "tupleSum = sum(Tuple)\n",
    "print(\"\\nThe Sum of numTuple Tuple Items = \", tupleSum)"
   ]
  },
  {
   "cell_type": "code",
   "execution_count": 10,
   "id": "533753dd",
   "metadata": {},
   "outputs": [
    {
     "name": "stdout",
     "output_type": "stream",
     "text": [
      "Printing elements of matrix 1:\n",
      "[[1 2]\n",
      " [3 4]]\n",
      "Printing elements of matrix 2:\n",
      "[[5 6]\n",
      " [7 8]]\n",
      "Addition of two matrix\n",
      "[[ 6  8]\n",
      " [10 12]]\n",
      "Subtraction of two matrix\n",
      "[[-4 -4]\n",
      " [-4 -4]]\n"
     ]
    }
   ],
   "source": [
    "# Adding and Subtracting Matrices in Python\n",
    "\n",
    "import numpy as np\n",
    "a= np.array([[1, 2], [3, 4]])\n",
    "b= np.array([[5, 6], [7, 8]])\n",
    "print(\"Printing elements of matrix 1:\")\n",
    "print(a)\n",
    "print(\"Printing elements of matrix 2:\")\n",
    "print(b)\n",
    "print(\"Addition of two matrix\")\n",
    "print(np.add(a,b))\n",
    "print(\"Subtraction of two matrix\")\n",
    "print(np.subtract(a,b))"
   ]
  }
 ],
 "metadata": {
  "kernelspec": {
   "display_name": "Python 3 (ipykernel)",
   "language": "python",
   "name": "python3"
  },
  "language_info": {
   "codemirror_mode": {
    "name": "ipython",
    "version": 3
   },
   "file_extension": ".py",
   "mimetype": "text/x-python",
   "name": "python",
   "nbconvert_exporter": "python",
   "pygments_lexer": "ipython3",
   "version": "3.9.12"
  }
 },
 "nbformat": 4,
 "nbformat_minor": 5
}
