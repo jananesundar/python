{
 "cells": [
  {
   "cell_type": "markdown",
   "id": "ce499937",
   "metadata": {},
   "source": [
    "# PYTHON ASSIGNMENT\n",
    "\n",
    "NAME: S.JANANE\n",
    "\n",
    "DEPT.: AI&DS-\"A\"\n",
    "    \n",
    "I YEAR IISEM\n",
    "\n",
    "REG.NO: 21UAI040"
   ]
  },
  {
   "cell_type": "code",
   "execution_count": 4,
   "id": "665fe8cc",
   "metadata": {},
   "outputs": [
    {
     "name": "stdout",
     "output_type": "stream",
     "text": [
      "This is a parent class.\n",
      "This is a child class.\n"
     ]
    }
   ],
   "source": [
    "class Parent:\n",
    "    def func1(self):\n",
    "        print(\"This is a parent class.\") \n",
    "class Child(Parent):\n",
    "    def func2(self):\n",
    "        print(\"This is a child class.\")\n",
    "obj=Child()\n",
    "obj.func1()\n",
    "obj.func2()"
   ]
  },
  {
   "cell_type": "code",
   "execution_count": 6,
   "id": "bf890f36",
   "metadata": {},
   "outputs": [
    {
     "name": "stdout",
     "output_type": "stream",
     "text": [
      "Father Name is: Sundar\n",
      "Mother Name is: Priya\n"
     ]
    }
   ],
   "source": [
    "class Mother:\n",
    "    mname = \"\" \n",
    "    def mother(self):\n",
    "        print(self.mname)\n",
    "class Father:\n",
    "    fname = \"\" \n",
    "    def father(self):\n",
    "        print(self.fname) \n",
    "class daughter(Mother, Father):\n",
    "    def parents(self):\n",
    "        print(\"Father Name is:\", self.fname)\n",
    "        print(\"Mother Name is:\", self.mname)\n",
    "s1 = daughter()\n",
    "s1.fname = \"Sundar\"\n",
    "s1.mname = \"Priya\"\n",
    "s1.parents()"
   ]
  },
  {
   "cell_type": "code",
   "execution_count": 11,
   "id": "e2829e88",
   "metadata": {},
   "outputs": [
    {
     "name": "stdout",
     "output_type": "stream",
     "text": [
      "720\n",
      "31030\n",
      "11.666666666666666\n"
     ]
    }
   ],
   "source": [
    "class sum:  \n",
    "    def add(self,a,b):  \n",
    "        return a+b;  \n",
    "class multipli:  \n",
    "    def product(self,a,b):  \n",
    "        return a*b;  \n",
    "class division(sum,multipli):  \n",
    "    def divide(self,a,b):  \n",
    "        return a/b;  \n",
    "d = division()  \n",
    "print(d.add(100,620))  \n",
    "print(d.product(107,290))  \n",
    "print(d.divide(70,6))  "
   ]
  },
  {
   "cell_type": "code",
   "execution_count": 15,
   "id": "c38009cf",
   "metadata": {},
   "outputs": [
    {
     "name": "stdout",
     "output_type": "stream",
     "text": [
      "Grandfather name : xyz\n",
      "Father name : abc\n",
      "Daughter name : xay\n"
     ]
    }
   ],
   "source": [
    "class Grandfather: \n",
    "    def __init__(self, gname):\n",
    "        self.gname = gname\n",
    "class Father(Grandfather):\n",
    "    def __init__(self, fname, gname):\n",
    "        self.fname = fname\n",
    "        Grandfather.__init__(self, gname)\n",
    "class daughter(Father):\n",
    "    def __init__(self, dname, fname, gname):\n",
    "        self.dname = dname\n",
    "        Father.__init__(self, fname, gname) \n",
    "    def print_name(self):\n",
    "        print('Grandfather name :', self.gname)\n",
    "        print(\"Father name :\", self.fname)\n",
    "        print(\"Daughter name :\", self.dname)\n",
    "s1 = daughter('xay', 'abc', 'xyz')\n",
    "s1.print_name()"
   ]
  },
  {
   "cell_type": "code",
   "execution_count": 16,
   "id": "a0e2291e",
   "metadata": {},
   "outputs": [
    {
     "name": "stdout",
     "output_type": "stream",
     "text": [
      "['e', 'e', 'e']\n"
     ]
    }
   ],
   "source": [
    "import re\n",
    "t=\"This the python program for regex\"\n",
    "x = re.findall(\"e\",t)\n",
    "print(x)"
   ]
  },
  {
   "cell_type": "code",
   "execution_count": 17,
   "id": "bb24d33e",
   "metadata": {},
   "outputs": [
    {
     "name": "stdout",
     "output_type": "stream",
     "text": [
      "The first t character is found at the position: 5\n"
     ]
    }
   ],
   "source": [
    "import re\n",
    "t=\"This the python program for regex\"\n",
    "x = re.search(\"t\", t)\n",
    "print(\"The first t character is found at the position:\", x.start())"
   ]
  },
  {
   "cell_type": "code",
   "execution_count": 18,
   "id": "0118125a",
   "metadata": {},
   "outputs": [
    {
     "name": "stdout",
     "output_type": "stream",
     "text": [
      "['This the ', 'ython ', 'rogram for regex']\n"
     ]
    }
   ],
   "source": [
    "import re\n",
    "t=\"This the python program for regex\"\n",
    "x=re.split(\"p\", t)\n",
    "print(x)"
   ]
  },
  {
   "cell_type": "code",
   "execution_count": 23,
   "id": "db6d9d1d",
   "metadata": {},
   "outputs": [
    {
     "name": "stdout",
     "output_type": "stream",
     "text": [
      "This the pyth0n pr0gram f0r regex\n"
     ]
    }
   ],
   "source": [
    "import re\n",
    "t=\"This the python program for regex\"\n",
    "x=re.sub(\"o\", \"0\", t)\n",
    "print(x)"
   ]
  },
  {
   "cell_type": "code",
   "execution_count": 24,
   "id": "39a1b3e7",
   "metadata": {},
   "outputs": [
    {
     "name": "stdout",
     "output_type": "stream",
     "text": [
      "Mean: 22.714285714285715\n",
      "Std: 20.926499166055912\n",
      "Var: 437.9183673469388\n",
      "Sum: 159\n",
      "Prod: 170201088\n",
      "min: 4\n",
      "max: 57\n",
      "cumulative sum: [ 12  66  78 135 143 147 159]\n",
      "cumulative product: [       12       648      7776    443232   3545856  14183424 170201088]\n",
      "argument min: 5\n",
      "argument max: 3\n"
     ]
    }
   ],
   "source": [
    "import numpy as np \n",
    "a = np.array([[12,54,12,57,8,4,12]])\n",
    "print(\"Mean:\", np.mean(a)) \n",
    "print(\"Std:\", np.std(a)) \n",
    "print(\"Var:\", np.var(a)) \n",
    "print(\"Sum:\", np.sum(a)) \n",
    "print(\"Prod:\", np.prod(a))\n",
    "print(\"min:\",np.min(a))\n",
    "print(\"max:\",np.max(a))\n",
    "print(\"cumulative sum:\",np.cumsum(a))\n",
    "print(\"cumulative product:\",np.cumprod(a))\n",
    "print(\"argument min:\",np.argmin(a))\n",
    "print(\"argument max:\",np.argmax(a))"
   ]
  },
  {
   "cell_type": "code",
   "execution_count": 6,
   "id": "eb3d84c7",
   "metadata": {},
   "outputs": [
    {
     "name": "stdout",
     "output_type": "stream",
     "text": [
      "Value of b =  -0.0\n",
      "ZeroDivisionError Occurred and Handled\n"
     ]
    }
   ],
   "source": [
    "def fun(a):\n",
    "    if a < 7:\n",
    "        b = a/(a-3)\n",
    "    print(\"Value of b = \", b) \n",
    "try:\n",
    "    fun(0)\n",
    "    fun(3)\n",
    "except ZeroDivisionError:\n",
    "    print(\"ZeroDivisionError Occurred and Handled\")"
   ]
  },
  {
   "cell_type": "code",
   "execution_count": 8,
   "id": "f2f9ed4e",
   "metadata": {},
   "outputs": [
    {
     "name": "stdout",
     "output_type": "stream",
     "text": [
      "An error occurred\n"
     ]
    }
   ],
   "source": [
    "a = [1,62,43]\n",
    "try: \n",
    "    print (\"Second element = %d\" %(a[4]))\n",
    "    print (\"Fourth element = %d\" %(a[2]))\n",
    "  \n",
    "except:\n",
    "    print (\"An error occurred\")"
   ]
  },
  {
   "cell_type": "code",
   "execution_count": 11,
   "id": "c3e04bb1",
   "metadata": {},
   "outputs": [
    {
     "name": "stdout",
     "output_type": "stream",
     "text": [
      "Please enter a number: 445\n"
     ]
    }
   ],
   "source": [
    "while True:\n",
    "...     try:\n",
    "...         x = int(input(\"Please enter a number: \"))\n",
    "...         break\n",
    "...     except ValueError:\n",
    "...         print(\"Oops!  That was no valid number.  Try again...\")\n",
    "..."
   ]
  },
  {
   "cell_type": "code",
   "execution_count": 12,
   "id": "935a2bd1",
   "metadata": {},
   "outputs": [
    {
     "name": "stdout",
     "output_type": "stream",
     "text": [
      "Something went wrong when opening the file\n"
     ]
    }
   ],
   "source": [
    "try:\n",
    "  f = open(\"pyfile.txt\")\n",
    "  try:\n",
    "    f.write(\"python program\")\n",
    "  except:\n",
    "    print(\"Something went wrong when writing to the file\")\n",
    "  finally:\n",
    "    f.close()\n",
    "except:\n",
    "  print(\"Something went wrong when opening the file\")"
   ]
  },
  {
   "cell_type": "code",
   "execution_count": 20,
   "id": "29cb0b40",
   "metadata": {},
   "outputs": [
    {
     "name": "stdout",
     "output_type": "stream",
     "text": [
      "12460\n"
     ]
    }
   ],
   "source": [
    "a = 356\n",
    "try:\n",
    "     b = 35\n",
    "     p = a*b\n",
    "except:\n",
    "    print(\"indentation error is occured\")\n",
    "print(p)"
   ]
  },
  {
   "cell_type": "code",
   "execution_count": 23,
   "id": "30f42d5a",
   "metadata": {},
   "outputs": [
    {
     "name": "stdout",
     "output_type": "stream",
     "text": [
      "Variable s is not defined\n"
     ]
    }
   ],
   "source": [
    "try:\n",
    "  print(f)\n",
    "except NameError:\n",
    "  print(\"Variable s is not defined\")\n",
    "except:\n",
    "  print(\"Something else went wrong\")"
   ]
  },
  {
   "cell_type": "code",
   "execution_count": 25,
   "id": "fb6b21b7",
   "metadata": {},
   "outputs": [
    {
     "name": "stdout",
     "output_type": "stream",
     "text": [
      "[[34 57 27]\n",
      " [ 1 78 78]\n",
      " [66 86 90]\n",
      " [89 87 66]]\n",
      "\n"
     ]
    }
   ],
   "source": [
    "import numpy as np\n",
    "x = np.random.randint(1, 100, size = (4,3))\n",
    "print(x)\n",
    "print()"
   ]
  }
 ],
 "metadata": {
  "kernelspec": {
   "display_name": "Python 3 (ipykernel)",
   "language": "python",
   "name": "python3"
  },
  "language_info": {
   "codemirror_mode": {
    "name": "ipython",
    "version": 3
   },
   "file_extension": ".py",
   "mimetype": "text/x-python",
   "name": "python",
   "nbconvert_exporter": "python",
   "pygments_lexer": "ipython3",
   "version": "3.9.12"
  }
 },
 "nbformat": 4,
 "nbformat_minor": 5
}
